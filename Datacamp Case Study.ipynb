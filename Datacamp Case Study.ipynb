{
 "cells": [
  {
   "cell_type": "markdown",
   "metadata": {},
   "source": [
    "# METADATA"
   ]
  },
  {
   "cell_type": "markdown",
   "metadata": {},
   "source": [
    "### Data Source: https://s3.amazonaws.com/talent-assets.datacamp.com/boat_data.csv"
   ]
  },
  {
   "cell_type": "markdown",
   "metadata": {},
   "source": [
    "### Variables Used For This Analysis:\n",
    "1. **Price:** Character, boat price listed in different currencies (e.g. EUR, Â£, CHF etc.) on the website.\n",
    "2. **Boat Type:** Character, type of the boat.\n",
    "3. **Manufacturer:** Character, manufacturer of the boat.\n",
    "4. **Type:** Character, condition of the boat and engine type(e.g. Diesel, Unleaded, etc.)\n",
    "5. **Year Built:** Numeric, year of the boat built.\n",
    "6. **Length:** Numeric, length in meter of the boat.\n",
    "7. **Width:** Numeric, width in meter of the boat.\n",
    "8. **Material:** Character, material of the boat (e.g. GRP, PVC, etc.)\n",
    "9. **Location:** Character, location of the boat listed.\n",
    "10. **Number of views last 7 days:** Numeric, number of the views of the list last 7 days."
   ]
  },
  {
   "cell_type": "markdown",
   "metadata": {},
   "source": [
    "# BUSINESS CASE"
   ]
  },
  {
   "cell_type": "markdown",
   "metadata": {},
   "source": [
    "Nearly New Nautical is a fictional website that allows users to advertise their used boats for sale. The marketing team is preparing a weekly newsletter for boat owners. The newsletter is designed to help sellers to get more views of their boat, as well as stay on top of market trends. The Head of Marketing has laid out an ambitious goal of increasing the number of readers by 75% this year. \n",
    "\n",
    "They would like you to tell them:\n",
    "- *Is it the most expensive boats that get the most views?*\n",
    "- *Are there common features among the most viewed boats?*"
   ]
  },
  {
   "cell_type": "code",
   "execution_count": 138,
   "metadata": {},
   "outputs": [],
   "source": [
    "#Importing Libraries\n",
    "import pandas as pd\n",
    "import matplotlib.pyplot as plt\n",
    "import seaborn as sns\n",
    "import numpy as np"
   ]
  },
  {
   "cell_type": "code",
   "execution_count": 139,
   "metadata": {},
   "outputs": [],
   "source": [
    "df = pd.read_csv(\"C:/Users/user/Downloads/boat_data.csv\")"
   ]
  },
  {
   "cell_type": "code",
   "execution_count": 140,
   "metadata": {},
   "outputs": [
    {
     "data": {
      "text/html": [
       "<div>\n",
       "<style scoped>\n",
       "    .dataframe tbody tr th:only-of-type {\n",
       "        vertical-align: middle;\n",
       "    }\n",
       "\n",
       "    .dataframe tbody tr th {\n",
       "        vertical-align: top;\n",
       "    }\n",
       "\n",
       "    .dataframe thead th {\n",
       "        text-align: right;\n",
       "    }\n",
       "</style>\n",
       "<table border=\"1\" class=\"dataframe\">\n",
       "  <thead>\n",
       "    <tr style=\"text-align: right;\">\n",
       "      <th></th>\n",
       "      <th>Price</th>\n",
       "      <th>Boat Type</th>\n",
       "      <th>Manufacturer</th>\n",
       "      <th>Type</th>\n",
       "      <th>Year Built</th>\n",
       "      <th>Length</th>\n",
       "      <th>Width</th>\n",
       "      <th>Material</th>\n",
       "      <th>Location</th>\n",
       "      <th>Number of views last 7 days</th>\n",
       "    </tr>\n",
       "  </thead>\n",
       "  <tbody>\n",
       "    <tr>\n",
       "      <th>0</th>\n",
       "      <td>CHF 3337</td>\n",
       "      <td>Motor Yacht</td>\n",
       "      <td>Rigiflex power boats</td>\n",
       "      <td>new boat from stock</td>\n",
       "      <td>2017</td>\n",
       "      <td>4.00</td>\n",
       "      <td>1.90</td>\n",
       "      <td>NaN</td>\n",
       "      <td>Switzerland</td>\n",
       "      <td>226</td>\n",
       "    </tr>\n",
       "    <tr>\n",
       "      <th>1</th>\n",
       "      <td>EUR 3490</td>\n",
       "      <td>Center console boat</td>\n",
       "      <td>Terhi power boats</td>\n",
       "      <td>new boat from stock</td>\n",
       "      <td>2020</td>\n",
       "      <td>4.00</td>\n",
       "      <td>1.50</td>\n",
       "      <td>Thermoplastic</td>\n",
       "      <td>Germany</td>\n",
       "      <td>75</td>\n",
       "    </tr>\n",
       "    <tr>\n",
       "      <th>2</th>\n",
       "      <td>CHF 3770</td>\n",
       "      <td>Sport Boat</td>\n",
       "      <td>Marine power boats</td>\n",
       "      <td>new boat from stock</td>\n",
       "      <td>0</td>\n",
       "      <td>3.69</td>\n",
       "      <td>1.42</td>\n",
       "      <td>Aluminium</td>\n",
       "      <td>Switzerland</td>\n",
       "      <td>124</td>\n",
       "    </tr>\n",
       "    <tr>\n",
       "      <th>3</th>\n",
       "      <td>DKK 25900</td>\n",
       "      <td>Sport Boat</td>\n",
       "      <td>Pioner power boats</td>\n",
       "      <td>new boat from stock</td>\n",
       "      <td>2020</td>\n",
       "      <td>3.00</td>\n",
       "      <td>1.00</td>\n",
       "      <td>NaN</td>\n",
       "      <td>Denmark</td>\n",
       "      <td>64</td>\n",
       "    </tr>\n",
       "    <tr>\n",
       "      <th>4</th>\n",
       "      <td>EUR 3399</td>\n",
       "      <td>Fishing Boat</td>\n",
       "      <td>Linder power boats</td>\n",
       "      <td>new boat from stock</td>\n",
       "      <td>2019</td>\n",
       "      <td>3.55</td>\n",
       "      <td>1.46</td>\n",
       "      <td>Aluminium</td>\n",
       "      <td>Germany</td>\n",
       "      <td>58</td>\n",
       "    </tr>\n",
       "  </tbody>\n",
       "</table>\n",
       "</div>"
      ],
      "text/plain": [
       "       Price            Boat Type          Manufacturer                 Type  \\\n",
       "0   CHF 3337          Motor Yacht  Rigiflex power boats  new boat from stock   \n",
       "1   EUR 3490  Center console boat     Terhi power boats  new boat from stock   \n",
       "2   CHF 3770           Sport Boat    Marine power boats  new boat from stock   \n",
       "3  DKK 25900           Sport Boat    Pioner power boats  new boat from stock   \n",
       "4   EUR 3399         Fishing Boat    Linder power boats  new boat from stock   \n",
       "\n",
       "   Year Built  Length  Width       Material     Location  \\\n",
       "0        2017    4.00   1.90            NaN  Switzerland   \n",
       "1        2020    4.00   1.50  Thermoplastic      Germany   \n",
       "2           0    3.69   1.42      Aluminium  Switzerland   \n",
       "3        2020    3.00   1.00            NaN      Denmark   \n",
       "4        2019    3.55   1.46      Aluminium      Germany   \n",
       "\n",
       "   Number of views last 7 days  \n",
       "0                          226  \n",
       "1                           75  \n",
       "2                          124  \n",
       "3                           64  \n",
       "4                           58  "
      ]
     },
     "execution_count": 140,
     "metadata": {},
     "output_type": "execute_result"
    }
   ],
   "source": [
    "df.head()"
   ]
  },
  {
   "cell_type": "code",
   "execution_count": 141,
   "metadata": {},
   "outputs": [
    {
     "name": "stdout",
     "output_type": "stream",
     "text": [
      "<class 'pandas.core.frame.DataFrame'>\n",
      "RangeIndex: 9888 entries, 0 to 9887\n",
      "Data columns (total 10 columns):\n",
      " #   Column                       Non-Null Count  Dtype  \n",
      "---  ------                       --------------  -----  \n",
      " 0   Price                        9888 non-null   object \n",
      " 1   Boat Type                    9888 non-null   object \n",
      " 2   Manufacturer                 8550 non-null   object \n",
      " 3   Type                         9882 non-null   object \n",
      " 4   Year Built                   9888 non-null   int64  \n",
      " 5   Length                       9879 non-null   float64\n",
      " 6   Width                        9832 non-null   float64\n",
      " 7   Material                     8139 non-null   object \n",
      " 8   Location                     9852 non-null   object \n",
      " 9   Number of views last 7 days  9888 non-null   int64  \n",
      "dtypes: float64(2), int64(2), object(6)\n",
      "memory usage: 772.6+ KB\n"
     ]
    }
   ],
   "source": [
    "df.info()"
   ]
  },
  {
   "cell_type": "markdown",
   "metadata": {},
   "source": [
    "# DATA CLEANING AND WRANGLING"
   ]
  },
  {
   "cell_type": "code",
   "execution_count": 142,
   "metadata": {},
   "outputs": [],
   "source": [
    "#New column for price currency\n",
    "df['Currency'] = df.Price.str.rstrip('0,1,2,3,4,5,6,7,8,9')"
   ]
  },
  {
   "cell_type": "code",
   "execution_count": 143,
   "metadata": {},
   "outputs": [],
   "source": [
    "df['Currency'] = df.Currency.str.strip()"
   ]
  },
  {
   "cell_type": "code",
   "execution_count": 144,
   "metadata": {},
   "outputs": [
    {
     "data": {
      "text/plain": [
       "array(['CHF', 'EUR', 'DKK', 'Â£'], dtype=object)"
      ]
     },
     "execution_count": 144,
     "metadata": {},
     "output_type": "execute_result"
    }
   ],
   "source": [
    "#Unique currencies in dataset\n",
    "df.Currency.unique()"
   ]
  },
  {
   "cell_type": "code",
   "execution_count": 145,
   "metadata": {},
   "outputs": [],
   "source": [
    "df['Price'] = df.Price.str.lstrip('CHF, EUR , DKK, Â£,  ')"
   ]
  },
  {
   "cell_type": "code",
   "execution_count": 146,
   "metadata": {},
   "outputs": [],
   "source": [
    "#Converting Price to Integer\n",
    "df['Price'] = df.Price.astype('int64')"
   ]
  },
  {
   "cell_type": "code",
   "execution_count": 147,
   "metadata": {},
   "outputs": [],
   "source": [
    "#Converting different currencies into USD\n",
    "df['Price'] = np.round(np.where(df['Currency']=='CHF', df['Price']/0.99, df['Price']), 2)\n",
    "df['Price'] = np.round(np.where(df['Currency']=='EUR', df['Price']/1.04, df['Price']), 2)\n",
    "df['Price'] = np.round(np.where(df['Currency']=='DKK', df['Price']/7.75, df['Price']), 2)\n",
    "df['Price'] = np.round(np.where(df['Currency']=='Â£', df['Price']/0.93, df['Price']), 2)"
   ]
  },
  {
   "cell_type": "code",
   "execution_count": 148,
   "metadata": {},
   "outputs": [],
   "source": [
    "df.drop('Currency', axis=1, inplace=True)"
   ]
  },
  {
   "cell_type": "code",
   "execution_count": 149,
   "metadata": {},
   "outputs": [
    {
     "data": {
      "text/html": [
       "<div>\n",
       "<style scoped>\n",
       "    .dataframe tbody tr th:only-of-type {\n",
       "        vertical-align: middle;\n",
       "    }\n",
       "\n",
       "    .dataframe tbody tr th {\n",
       "        vertical-align: top;\n",
       "    }\n",
       "\n",
       "    .dataframe thead th {\n",
       "        text-align: right;\n",
       "    }\n",
       "</style>\n",
       "<table border=\"1\" class=\"dataframe\">\n",
       "  <thead>\n",
       "    <tr style=\"text-align: right;\">\n",
       "      <th></th>\n",
       "      <th>Price</th>\n",
       "      <th>Boat Type</th>\n",
       "      <th>Manufacturer</th>\n",
       "      <th>Type</th>\n",
       "      <th>Year Built</th>\n",
       "      <th>Length</th>\n",
       "      <th>Width</th>\n",
       "      <th>Material</th>\n",
       "      <th>Location</th>\n",
       "      <th>Number of views last 7 days</th>\n",
       "    </tr>\n",
       "  </thead>\n",
       "  <tbody>\n",
       "    <tr>\n",
       "      <th>0</th>\n",
       "      <td>3370.71</td>\n",
       "      <td>Motor Yacht</td>\n",
       "      <td>Rigiflex power boats</td>\n",
       "      <td>new boat from stock</td>\n",
       "      <td>2017</td>\n",
       "      <td>4.00</td>\n",
       "      <td>1.90</td>\n",
       "      <td>NaN</td>\n",
       "      <td>Switzerland</td>\n",
       "      <td>226</td>\n",
       "    </tr>\n",
       "    <tr>\n",
       "      <th>1</th>\n",
       "      <td>3355.77</td>\n",
       "      <td>Center console boat</td>\n",
       "      <td>Terhi power boats</td>\n",
       "      <td>new boat from stock</td>\n",
       "      <td>2020</td>\n",
       "      <td>4.00</td>\n",
       "      <td>1.50</td>\n",
       "      <td>Thermoplastic</td>\n",
       "      <td>Germany</td>\n",
       "      <td>75</td>\n",
       "    </tr>\n",
       "    <tr>\n",
       "      <th>2</th>\n",
       "      <td>3808.08</td>\n",
       "      <td>Sport Boat</td>\n",
       "      <td>Marine power boats</td>\n",
       "      <td>new boat from stock</td>\n",
       "      <td>0</td>\n",
       "      <td>3.69</td>\n",
       "      <td>1.42</td>\n",
       "      <td>Aluminium</td>\n",
       "      <td>Switzerland</td>\n",
       "      <td>124</td>\n",
       "    </tr>\n",
       "    <tr>\n",
       "      <th>3</th>\n",
       "      <td>3341.94</td>\n",
       "      <td>Sport Boat</td>\n",
       "      <td>Pioner power boats</td>\n",
       "      <td>new boat from stock</td>\n",
       "      <td>2020</td>\n",
       "      <td>3.00</td>\n",
       "      <td>1.00</td>\n",
       "      <td>NaN</td>\n",
       "      <td>Denmark</td>\n",
       "      <td>64</td>\n",
       "    </tr>\n",
       "    <tr>\n",
       "      <th>4</th>\n",
       "      <td>3268.27</td>\n",
       "      <td>Fishing Boat</td>\n",
       "      <td>Linder power boats</td>\n",
       "      <td>new boat from stock</td>\n",
       "      <td>2019</td>\n",
       "      <td>3.55</td>\n",
       "      <td>1.46</td>\n",
       "      <td>Aluminium</td>\n",
       "      <td>Germany</td>\n",
       "      <td>58</td>\n",
       "    </tr>\n",
       "  </tbody>\n",
       "</table>\n",
       "</div>"
      ],
      "text/plain": [
       "     Price            Boat Type          Manufacturer                 Type  \\\n",
       "0  3370.71          Motor Yacht  Rigiflex power boats  new boat from stock   \n",
       "1  3355.77  Center console boat     Terhi power boats  new boat from stock   \n",
       "2  3808.08           Sport Boat    Marine power boats  new boat from stock   \n",
       "3  3341.94           Sport Boat    Pioner power boats  new boat from stock   \n",
       "4  3268.27         Fishing Boat    Linder power boats  new boat from stock   \n",
       "\n",
       "   Year Built  Length  Width       Material     Location  \\\n",
       "0        2017    4.00   1.90            NaN  Switzerland   \n",
       "1        2020    4.00   1.50  Thermoplastic      Germany   \n",
       "2           0    3.69   1.42      Aluminium  Switzerland   \n",
       "3        2020    3.00   1.00            NaN      Denmark   \n",
       "4        2019    3.55   1.46      Aluminium      Germany   \n",
       "\n",
       "   Number of views last 7 days  \n",
       "0                          226  \n",
       "1                           75  \n",
       "2                          124  \n",
       "3                           64  \n",
       "4                           58  "
      ]
     },
     "execution_count": 149,
     "metadata": {},
     "output_type": "execute_result"
    }
   ],
   "source": [
    "df.head()"
   ]
  },
  {
   "cell_type": "code",
   "execution_count": 150,
   "metadata": {},
   "outputs": [
    {
     "data": {
      "text/html": [
       "<div>\n",
       "<style scoped>\n",
       "    .dataframe tbody tr th:only-of-type {\n",
       "        vertical-align: middle;\n",
       "    }\n",
       "\n",
       "    .dataframe tbody tr th {\n",
       "        vertical-align: top;\n",
       "    }\n",
       "\n",
       "    .dataframe thead th {\n",
       "        text-align: right;\n",
       "    }\n",
       "</style>\n",
       "<table border=\"1\" class=\"dataframe\">\n",
       "  <thead>\n",
       "    <tr style=\"text-align: right;\">\n",
       "      <th></th>\n",
       "      <th>Price</th>\n",
       "      <th>Year Built</th>\n",
       "      <th>Length</th>\n",
       "      <th>Width</th>\n",
       "      <th>Number of views last 7 days</th>\n",
       "    </tr>\n",
       "  </thead>\n",
       "  <tbody>\n",
       "    <tr>\n",
       "      <th>count</th>\n",
       "      <td>9.888000e+03</td>\n",
       "      <td>9888.000000</td>\n",
       "      <td>9879.000000</td>\n",
       "      <td>9832.000000</td>\n",
       "      <td>9888.000000</td>\n",
       "    </tr>\n",
       "    <tr>\n",
       "      <th>mean</th>\n",
       "      <td>2.905740e+05</td>\n",
       "      <td>1893.192860</td>\n",
       "      <td>11.570017</td>\n",
       "      <td>3.520124</td>\n",
       "      <td>149.160801</td>\n",
       "    </tr>\n",
       "    <tr>\n",
       "      <th>std</th>\n",
       "      <td>9.300954e+05</td>\n",
       "      <td>460.201582</td>\n",
       "      <td>6.002820</td>\n",
       "      <td>1.220534</td>\n",
       "      <td>151.819752</td>\n",
       "    </tr>\n",
       "    <tr>\n",
       "      <th>min</th>\n",
       "      <td>3.173080e+03</td>\n",
       "      <td>0.000000</td>\n",
       "      <td>1.040000</td>\n",
       "      <td>0.010000</td>\n",
       "      <td>13.000000</td>\n",
       "    </tr>\n",
       "    <tr>\n",
       "      <th>25%</th>\n",
       "      <td>4.134615e+04</td>\n",
       "      <td>1996.000000</td>\n",
       "      <td>7.470000</td>\n",
       "      <td>2.540000</td>\n",
       "      <td>70.000000</td>\n",
       "    </tr>\n",
       "    <tr>\n",
       "      <th>50%</th>\n",
       "      <td>9.024101e+04</td>\n",
       "      <td>2007.000000</td>\n",
       "      <td>10.280000</td>\n",
       "      <td>3.330000</td>\n",
       "      <td>108.000000</td>\n",
       "    </tr>\n",
       "    <tr>\n",
       "      <th>75%</th>\n",
       "      <td>2.388159e+05</td>\n",
       "      <td>2017.000000</td>\n",
       "      <td>13.930000</td>\n",
       "      <td>4.250000</td>\n",
       "      <td>172.000000</td>\n",
       "    </tr>\n",
       "    <tr>\n",
       "      <th>max</th>\n",
       "      <td>2.980769e+07</td>\n",
       "      <td>2021.000000</td>\n",
       "      <td>100.000000</td>\n",
       "      <td>25.160000</td>\n",
       "      <td>3263.000000</td>\n",
       "    </tr>\n",
       "  </tbody>\n",
       "</table>\n",
       "</div>"
      ],
      "text/plain": [
       "              Price   Year Built       Length        Width  \\\n",
       "count  9.888000e+03  9888.000000  9879.000000  9832.000000   \n",
       "mean   2.905740e+05  1893.192860    11.570017     3.520124   \n",
       "std    9.300954e+05   460.201582     6.002820     1.220534   \n",
       "min    3.173080e+03     0.000000     1.040000     0.010000   \n",
       "25%    4.134615e+04  1996.000000     7.470000     2.540000   \n",
       "50%    9.024101e+04  2007.000000    10.280000     3.330000   \n",
       "75%    2.388159e+05  2017.000000    13.930000     4.250000   \n",
       "max    2.980769e+07  2021.000000   100.000000    25.160000   \n",
       "\n",
       "       Number of views last 7 days  \n",
       "count                  9888.000000  \n",
       "mean                    149.160801  \n",
       "std                     151.819752  \n",
       "min                      13.000000  \n",
       "25%                      70.000000  \n",
       "50%                     108.000000  \n",
       "75%                     172.000000  \n",
       "max                    3263.000000  "
      ]
     },
     "execution_count": 150,
     "metadata": {},
     "output_type": "execute_result"
    }
   ],
   "source": [
    "df.describe()"
   ]
  },
  {
   "cell_type": "code",
   "execution_count": 151,
   "metadata": {},
   "outputs": [
    {
     "data": {
      "text/plain": [
       "Price                             0\n",
       "Boat Type                         0\n",
       "Manufacturer                   1338\n",
       "Type                              6\n",
       "Year Built                        0\n",
       "Length                            9\n",
       "Width                            56\n",
       "Material                       1749\n",
       "Location                         36\n",
       "Number of views last 7 days       0\n",
       "dtype: int64"
      ]
     },
     "execution_count": 151,
     "metadata": {},
     "output_type": "execute_result"
    }
   ],
   "source": [
    "#Checking for missing values\n",
    "df.isna().sum()"
   ]
  },
  {
   "cell_type": "code",
   "execution_count": 152,
   "metadata": {},
   "outputs": [],
   "source": [
    "#New DataFrame\n",
    "new_df = df.drop(['Manufacturer', 'Material'], axis=1)"
   ]
  },
  {
   "cell_type": "code",
   "execution_count": 153,
   "metadata": {},
   "outputs": [
    {
     "data": {
      "text/html": [
       "<div>\n",
       "<style scoped>\n",
       "    .dataframe tbody tr th:only-of-type {\n",
       "        vertical-align: middle;\n",
       "    }\n",
       "\n",
       "    .dataframe tbody tr th {\n",
       "        vertical-align: top;\n",
       "    }\n",
       "\n",
       "    .dataframe thead th {\n",
       "        text-align: right;\n",
       "    }\n",
       "</style>\n",
       "<table border=\"1\" class=\"dataframe\">\n",
       "  <thead>\n",
       "    <tr style=\"text-align: right;\">\n",
       "      <th></th>\n",
       "      <th>Price</th>\n",
       "      <th>Boat Type</th>\n",
       "      <th>Type</th>\n",
       "      <th>Year Built</th>\n",
       "      <th>Length</th>\n",
       "      <th>Width</th>\n",
       "      <th>Location</th>\n",
       "      <th>Number of views last 7 days</th>\n",
       "    </tr>\n",
       "  </thead>\n",
       "  <tbody>\n",
       "    <tr>\n",
       "      <th>0</th>\n",
       "      <td>3370.71</td>\n",
       "      <td>Motor Yacht</td>\n",
       "      <td>new boat from stock</td>\n",
       "      <td>2017</td>\n",
       "      <td>4.00</td>\n",
       "      <td>1.90</td>\n",
       "      <td>Switzerland</td>\n",
       "      <td>226</td>\n",
       "    </tr>\n",
       "    <tr>\n",
       "      <th>1</th>\n",
       "      <td>3355.77</td>\n",
       "      <td>Center console boat</td>\n",
       "      <td>new boat from stock</td>\n",
       "      <td>2020</td>\n",
       "      <td>4.00</td>\n",
       "      <td>1.50</td>\n",
       "      <td>Germany</td>\n",
       "      <td>75</td>\n",
       "    </tr>\n",
       "    <tr>\n",
       "      <th>2</th>\n",
       "      <td>3808.08</td>\n",
       "      <td>Sport Boat</td>\n",
       "      <td>new boat from stock</td>\n",
       "      <td>0</td>\n",
       "      <td>3.69</td>\n",
       "      <td>1.42</td>\n",
       "      <td>Switzerland</td>\n",
       "      <td>124</td>\n",
       "    </tr>\n",
       "    <tr>\n",
       "      <th>3</th>\n",
       "      <td>3341.94</td>\n",
       "      <td>Sport Boat</td>\n",
       "      <td>new boat from stock</td>\n",
       "      <td>2020</td>\n",
       "      <td>3.00</td>\n",
       "      <td>1.00</td>\n",
       "      <td>Denmark</td>\n",
       "      <td>64</td>\n",
       "    </tr>\n",
       "    <tr>\n",
       "      <th>4</th>\n",
       "      <td>3268.27</td>\n",
       "      <td>Fishing Boat</td>\n",
       "      <td>new boat from stock</td>\n",
       "      <td>2019</td>\n",
       "      <td>3.55</td>\n",
       "      <td>1.46</td>\n",
       "      <td>Germany</td>\n",
       "      <td>58</td>\n",
       "    </tr>\n",
       "  </tbody>\n",
       "</table>\n",
       "</div>"
      ],
      "text/plain": [
       "     Price            Boat Type                 Type  Year Built  Length  \\\n",
       "0  3370.71          Motor Yacht  new boat from stock        2017    4.00   \n",
       "1  3355.77  Center console boat  new boat from stock        2020    4.00   \n",
       "2  3808.08           Sport Boat  new boat from stock           0    3.69   \n",
       "3  3341.94           Sport Boat  new boat from stock        2020    3.00   \n",
       "4  3268.27         Fishing Boat  new boat from stock        2019    3.55   \n",
       "\n",
       "   Width     Location  Number of views last 7 days  \n",
       "0   1.90  Switzerland                          226  \n",
       "1   1.50      Germany                           75  \n",
       "2   1.42  Switzerland                          124  \n",
       "3   1.00      Denmark                           64  \n",
       "4   1.46      Germany                           58  "
      ]
     },
     "execution_count": 153,
     "metadata": {},
     "output_type": "execute_result"
    }
   ],
   "source": [
    "new_df.head()"
   ]
  },
  {
   "cell_type": "code",
   "execution_count": 154,
   "metadata": {},
   "outputs": [
    {
     "data": {
      "text/plain": [
       "(9888, 8)"
      ]
     },
     "execution_count": 154,
     "metadata": {},
     "output_type": "execute_result"
    }
   ],
   "source": [
    "new_df.shape"
   ]
  },
  {
   "cell_type": "code",
   "execution_count": 155,
   "metadata": {},
   "outputs": [],
   "source": [
    "new_df['Year Built'].replace(0, np.nan, inplace=True)"
   ]
  },
  {
   "cell_type": "code",
   "execution_count": 156,
   "metadata": {},
   "outputs": [],
   "source": [
    "new_df['Width'].replace(0.01, 0.1, inplace=True)"
   ]
  },
  {
   "cell_type": "code",
   "execution_count": 157,
   "metadata": {},
   "outputs": [],
   "source": [
    "new_df.dropna(inplace=True)"
   ]
  },
  {
   "cell_type": "code",
   "execution_count": 158,
   "metadata": {},
   "outputs": [],
   "source": [
    "new_df['Year Built'] = new_df['Year Built'].astype('int64')"
   ]
  },
  {
   "cell_type": "code",
   "execution_count": 159,
   "metadata": {},
   "outputs": [
    {
     "name": "stdout",
     "output_type": "stream",
     "text": [
      "<class 'pandas.core.frame.DataFrame'>\n",
      "Int64Index: 9241 entries, 0 to 9887\n",
      "Data columns (total 8 columns):\n",
      " #   Column                       Non-Null Count  Dtype  \n",
      "---  ------                       --------------  -----  \n",
      " 0   Price                        9241 non-null   float64\n",
      " 1   Boat Type                    9241 non-null   object \n",
      " 2   Type                         9241 non-null   object \n",
      " 3   Year Built                   9241 non-null   int64  \n",
      " 4   Length                       9241 non-null   float64\n",
      " 5   Width                        9241 non-null   float64\n",
      " 6   Location                     9241 non-null   object \n",
      " 7   Number of views last 7 days  9241 non-null   int64  \n",
      "dtypes: float64(3), int64(2), object(3)\n",
      "memory usage: 649.8+ KB\n"
     ]
    }
   ],
   "source": [
    "new_df.info()"
   ]
  },
  {
   "cell_type": "code",
   "execution_count": 160,
   "metadata": {},
   "outputs": [
    {
     "data": {
      "text/html": [
       "<div>\n",
       "<style scoped>\n",
       "    .dataframe tbody tr th:only-of-type {\n",
       "        vertical-align: middle;\n",
       "    }\n",
       "\n",
       "    .dataframe tbody tr th {\n",
       "        vertical-align: top;\n",
       "    }\n",
       "\n",
       "    .dataframe thead th {\n",
       "        text-align: right;\n",
       "    }\n",
       "</style>\n",
       "<table border=\"1\" class=\"dataframe\">\n",
       "  <thead>\n",
       "    <tr style=\"text-align: right;\">\n",
       "      <th></th>\n",
       "      <th>count</th>\n",
       "      <th>mean</th>\n",
       "      <th>std</th>\n",
       "      <th>min</th>\n",
       "      <th>25%</th>\n",
       "      <th>50%</th>\n",
       "      <th>75%</th>\n",
       "      <th>max</th>\n",
       "    </tr>\n",
       "  </thead>\n",
       "  <tbody>\n",
       "    <tr>\n",
       "      <th>Price</th>\n",
       "      <td>9241.0</td>\n",
       "      <td>289737.777340</td>\n",
       "      <td>899528.463159</td>\n",
       "      <td>3173.08</td>\n",
       "      <td>43173.08</td>\n",
       "      <td>91397.85</td>\n",
       "      <td>239903.85</td>\n",
       "      <td>29807692.31</td>\n",
       "    </tr>\n",
       "    <tr>\n",
       "      <th>Year Built</th>\n",
       "      <td>9241.0</td>\n",
       "      <td>2004.931176</td>\n",
       "      <td>16.387410</td>\n",
       "      <td>1885.00</td>\n",
       "      <td>1999.00</td>\n",
       "      <td>2008.00</td>\n",
       "      <td>2018.00</td>\n",
       "      <td>2021.00</td>\n",
       "    </tr>\n",
       "    <tr>\n",
       "      <th>Length</th>\n",
       "      <td>9241.0</td>\n",
       "      <td>11.717052</td>\n",
       "      <td>5.997217</td>\n",
       "      <td>1.04</td>\n",
       "      <td>7.56</td>\n",
       "      <td>10.50</td>\n",
       "      <td>14.00</td>\n",
       "      <td>100.00</td>\n",
       "    </tr>\n",
       "    <tr>\n",
       "      <th>Width</th>\n",
       "      <td>9241.0</td>\n",
       "      <td>3.552561</td>\n",
       "      <td>1.211891</td>\n",
       "      <td>0.10</td>\n",
       "      <td>2.55</td>\n",
       "      <td>3.39</td>\n",
       "      <td>4.26</td>\n",
       "      <td>25.16</td>\n",
       "    </tr>\n",
       "    <tr>\n",
       "      <th>Number of views last 7 days</th>\n",
       "      <td>9241.0</td>\n",
       "      <td>150.446813</td>\n",
       "      <td>155.106784</td>\n",
       "      <td>13.00</td>\n",
       "      <td>70.00</td>\n",
       "      <td>108.00</td>\n",
       "      <td>172.00</td>\n",
       "      <td>3263.00</td>\n",
       "    </tr>\n",
       "  </tbody>\n",
       "</table>\n",
       "</div>"
      ],
      "text/plain": [
       "                              count           mean            std      min  \\\n",
       "Price                        9241.0  289737.777340  899528.463159  3173.08   \n",
       "Year Built                   9241.0    2004.931176      16.387410  1885.00   \n",
       "Length                       9241.0      11.717052       5.997217     1.04   \n",
       "Width                        9241.0       3.552561       1.211891     0.10   \n",
       "Number of views last 7 days  9241.0     150.446813     155.106784    13.00   \n",
       "\n",
       "                                  25%       50%        75%          max  \n",
       "Price                        43173.08  91397.85  239903.85  29807692.31  \n",
       "Year Built                    1999.00   2008.00    2018.00      2021.00  \n",
       "Length                           7.56     10.50      14.00       100.00  \n",
       "Width                            2.55      3.39       4.26        25.16  \n",
       "Number of views last 7 days     70.00    108.00     172.00      3263.00  "
      ]
     },
     "execution_count": 160,
     "metadata": {},
     "output_type": "execute_result"
    }
   ],
   "source": [
    "new_df.describe().transpose()"
   ]
  },
  {
   "cell_type": "code",
   "execution_count": 161,
   "metadata": {},
   "outputs": [],
   "source": [
    "#Creating new category\n",
    "new_df['price_category'] = pd.cut(new_df['Price'], bins=[0, new_df['Price'].median(), new_df['Price'].quantile(0.75), np.Infinity], labels=['Cheap', 'Moderate', 'Expensive'], right=False )"
   ]
  },
  {
   "cell_type": "code",
   "execution_count": 162,
   "metadata": {},
   "outputs": [],
   "source": [
    "#Dataframee for boats having at least 200 views\n",
    "most_viewed = new_df[new_df['Number of views last 7 days'] >= 172]"
   ]
  },
  {
   "cell_type": "code",
   "execution_count": 163,
   "metadata": {},
   "outputs": [
    {
     "data": {
      "text/plain": [
       "(2329, 9)"
      ]
     },
     "execution_count": 163,
     "metadata": {},
     "output_type": "execute_result"
    }
   ],
   "source": [
    "most_viewed.shape"
   ]
  },
  {
   "cell_type": "code",
   "execution_count": 164,
   "metadata": {},
   "outputs": [
    {
     "data": {
      "text/html": [
       "<div>\n",
       "<style scoped>\n",
       "    .dataframe tbody tr th:only-of-type {\n",
       "        vertical-align: middle;\n",
       "    }\n",
       "\n",
       "    .dataframe tbody tr th {\n",
       "        vertical-align: top;\n",
       "    }\n",
       "\n",
       "    .dataframe thead th {\n",
       "        text-align: right;\n",
       "    }\n",
       "</style>\n",
       "<table border=\"1\" class=\"dataframe\">\n",
       "  <thead>\n",
       "    <tr style=\"text-align: right;\">\n",
       "      <th></th>\n",
       "      <th>Price</th>\n",
       "      <th>Boat Type</th>\n",
       "      <th>Type</th>\n",
       "      <th>Year Built</th>\n",
       "      <th>Length</th>\n",
       "      <th>Width</th>\n",
       "      <th>Location</th>\n",
       "      <th>Number of views last 7 days</th>\n",
       "      <th>price_category</th>\n",
       "    </tr>\n",
       "  </thead>\n",
       "  <tbody>\n",
       "    <tr>\n",
       "      <th>9580</th>\n",
       "      <td>15050.51</td>\n",
       "      <td>Motor Yacht</td>\n",
       "      <td>Used boat,Unleaded</td>\n",
       "      <td>1992</td>\n",
       "      <td>7.70</td>\n",
       "      <td>2.46</td>\n",
       "      <td>Switzerland</td>\n",
       "      <td>3263</td>\n",
       "      <td>Cheap</td>\n",
       "    </tr>\n",
       "    <tr>\n",
       "      <th>8723</th>\n",
       "      <td>35353.54</td>\n",
       "      <td>Hardtop</td>\n",
       "      <td>Used boat,Diesel</td>\n",
       "      <td>1979</td>\n",
       "      <td>11.12</td>\n",
       "      <td>3.88</td>\n",
       "      <td>Switzerland</td>\n",
       "      <td>2432</td>\n",
       "      <td>Cheap</td>\n",
       "    </tr>\n",
       "    <tr>\n",
       "      <th>6211</th>\n",
       "      <td>127171.72</td>\n",
       "      <td>Bowrider,Motor Yacht,Sport Boat</td>\n",
       "      <td>Used boat,Diesel</td>\n",
       "      <td>2002</td>\n",
       "      <td>12.35</td>\n",
       "      <td>3.48</td>\n",
       "      <td>Switzerland</td>\n",
       "      <td>2261</td>\n",
       "      <td>Moderate</td>\n",
       "    </tr>\n",
       "    <tr>\n",
       "      <th>3700</th>\n",
       "      <td>912500.00</td>\n",
       "      <td>Hardtop</td>\n",
       "      <td>Used boat,Diesel</td>\n",
       "      <td>2009</td>\n",
       "      <td>20.30</td>\n",
       "      <td>5.20</td>\n",
       "      <td>Neustadt</td>\n",
       "      <td>2154</td>\n",
       "      <td>Expensive</td>\n",
       "    </tr>\n",
       "    <tr>\n",
       "      <th>308</th>\n",
       "      <td>20101.01</td>\n",
       "      <td>Sport Boat</td>\n",
       "      <td>Used boat,Unleaded</td>\n",
       "      <td>1993</td>\n",
       "      <td>6.14</td>\n",
       "      <td>2.34</td>\n",
       "      <td>Switzerland</td>\n",
       "      <td>2026</td>\n",
       "      <td>Cheap</td>\n",
       "    </tr>\n",
       "    <tr>\n",
       "      <th>...</th>\n",
       "      <td>...</td>\n",
       "      <td>...</td>\n",
       "      <td>...</td>\n",
       "      <td>...</td>\n",
       "      <td>...</td>\n",
       "      <td>...</td>\n",
       "      <td>...</td>\n",
       "      <td>...</td>\n",
       "      <td>...</td>\n",
       "    </tr>\n",
       "    <tr>\n",
       "      <th>9180</th>\n",
       "      <td>22019.23</td>\n",
       "      <td>Sport Boat</td>\n",
       "      <td>Used boat,Unleaded</td>\n",
       "      <td>1994</td>\n",
       "      <td>6.57</td>\n",
       "      <td>2.43</td>\n",
       "      <td>Austria</td>\n",
       "      <td>172</td>\n",
       "      <td>Cheap</td>\n",
       "    </tr>\n",
       "    <tr>\n",
       "      <th>9243</th>\n",
       "      <td>20192.31</td>\n",
       "      <td>Flybridge</td>\n",
       "      <td>Used boat,Diesel</td>\n",
       "      <td>1993</td>\n",
       "      <td>8.40</td>\n",
       "      <td>2.86</td>\n",
       "      <td>France</td>\n",
       "      <td>172</td>\n",
       "      <td>Cheap</td>\n",
       "    </tr>\n",
       "    <tr>\n",
       "      <th>260</th>\n",
       "      <td>16250.00</td>\n",
       "      <td>Trawler</td>\n",
       "      <td>Used boat</td>\n",
       "      <td>1995</td>\n",
       "      <td>5.70</td>\n",
       "      <td>2.80</td>\n",
       "      <td>Rovinij</td>\n",
       "      <td>172</td>\n",
       "      <td>Cheap</td>\n",
       "    </tr>\n",
       "    <tr>\n",
       "      <th>200</th>\n",
       "      <td>13653.85</td>\n",
       "      <td>Sport Boat</td>\n",
       "      <td>Used boat</td>\n",
       "      <td>2019</td>\n",
       "      <td>6.35</td>\n",
       "      <td>2.45</td>\n",
       "      <td>Italy</td>\n",
       "      <td>172</td>\n",
       "      <td>Cheap</td>\n",
       "    </tr>\n",
       "    <tr>\n",
       "      <th>9685</th>\n",
       "      <td>12121.21</td>\n",
       "      <td>Fishing Boat</td>\n",
       "      <td>Used boat,Unleaded</td>\n",
       "      <td>2006</td>\n",
       "      <td>7.00</td>\n",
       "      <td>1.80</td>\n",
       "      <td>Switzerland</td>\n",
       "      <td>172</td>\n",
       "      <td>Cheap</td>\n",
       "    </tr>\n",
       "  </tbody>\n",
       "</table>\n",
       "<p>2329 rows × 9 columns</p>\n",
       "</div>"
      ],
      "text/plain": [
       "          Price                        Boat Type                Type  \\\n",
       "9580   15050.51                      Motor Yacht  Used boat,Unleaded   \n",
       "8723   35353.54                          Hardtop    Used boat,Diesel   \n",
       "6211  127171.72  Bowrider,Motor Yacht,Sport Boat    Used boat,Diesel   \n",
       "3700  912500.00                          Hardtop    Used boat,Diesel   \n",
       "308    20101.01                       Sport Boat  Used boat,Unleaded   \n",
       "...         ...                              ...                 ...   \n",
       "9180   22019.23                       Sport Boat  Used boat,Unleaded   \n",
       "9243   20192.31                        Flybridge    Used boat,Diesel   \n",
       "260    16250.00                          Trawler           Used boat   \n",
       "200    13653.85                       Sport Boat           Used boat   \n",
       "9685   12121.21                     Fishing Boat  Used boat,Unleaded   \n",
       "\n",
       "      Year Built  Length  Width     Location  Number of views last 7 days  \\\n",
       "9580        1992    7.70   2.46  Switzerland                         3263   \n",
       "8723        1979   11.12   3.88  Switzerland                         2432   \n",
       "6211        2002   12.35   3.48  Switzerland                         2261   \n",
       "3700        2009   20.30   5.20     Neustadt                         2154   \n",
       "308         1993    6.14   2.34  Switzerland                         2026   \n",
       "...          ...     ...    ...          ...                          ...   \n",
       "9180        1994    6.57   2.43      Austria                          172   \n",
       "9243        1993    8.40   2.86       France                          172   \n",
       "260         1995    5.70   2.80      Rovinij                          172   \n",
       "200         2019    6.35   2.45        Italy                          172   \n",
       "9685        2006    7.00   1.80  Switzerland                          172   \n",
       "\n",
       "     price_category  \n",
       "9580          Cheap  \n",
       "8723          Cheap  \n",
       "6211       Moderate  \n",
       "3700      Expensive  \n",
       "308           Cheap  \n",
       "...             ...  \n",
       "9180          Cheap  \n",
       "9243          Cheap  \n",
       "260           Cheap  \n",
       "200           Cheap  \n",
       "9685          Cheap  \n",
       "\n",
       "[2329 rows x 9 columns]"
      ]
     },
     "execution_count": 164,
     "metadata": {},
     "output_type": "execute_result"
    }
   ],
   "source": [
    "most_viewed.sort_values(['Number of views last 7 days', 'Price'], ascending=False)"
   ]
  },
  {
   "cell_type": "code",
   "execution_count": 165,
   "metadata": {},
   "outputs": [],
   "source": [
    "#Removing Outliers\n",
    "df_no_outliers = new_df[new_df['Price'].between(new_df['Price'].quantile(0.15), new_df['Price'].quantile(0.85))]"
   ]
  },
  {
   "cell_type": "code",
   "execution_count": 166,
   "metadata": {},
   "outputs": [
    {
     "data": {
      "text/html": [
       "<div>\n",
       "<style scoped>\n",
       "    .dataframe tbody tr th:only-of-type {\n",
       "        vertical-align: middle;\n",
       "    }\n",
       "\n",
       "    .dataframe tbody tr th {\n",
       "        vertical-align: top;\n",
       "    }\n",
       "\n",
       "    .dataframe thead th {\n",
       "        text-align: right;\n",
       "    }\n",
       "</style>\n",
       "<table border=\"1\" class=\"dataframe\">\n",
       "  <thead>\n",
       "    <tr style=\"text-align: right;\">\n",
       "      <th></th>\n",
       "      <th>Price</th>\n",
       "      <th>Boat Type</th>\n",
       "      <th>Type</th>\n",
       "      <th>Year Built</th>\n",
       "      <th>Length</th>\n",
       "      <th>Width</th>\n",
       "      <th>Location</th>\n",
       "      <th>Number of views last 7 days</th>\n",
       "      <th>price_category</th>\n",
       "    </tr>\n",
       "  </thead>\n",
       "  <tbody>\n",
       "    <tr>\n",
       "      <th>0</th>\n",
       "      <td>3370.71</td>\n",
       "      <td>Motor Yacht</td>\n",
       "      <td>new boat from stock</td>\n",
       "      <td>2017</td>\n",
       "      <td>4.00</td>\n",
       "      <td>1.90</td>\n",
       "      <td>Switzerland</td>\n",
       "      <td>226</td>\n",
       "      <td>Cheap</td>\n",
       "    </tr>\n",
       "    <tr>\n",
       "      <th>1</th>\n",
       "      <td>3355.77</td>\n",
       "      <td>Center console boat</td>\n",
       "      <td>new boat from stock</td>\n",
       "      <td>2020</td>\n",
       "      <td>4.00</td>\n",
       "      <td>1.50</td>\n",
       "      <td>Germany</td>\n",
       "      <td>75</td>\n",
       "      <td>Cheap</td>\n",
       "    </tr>\n",
       "    <tr>\n",
       "      <th>3</th>\n",
       "      <td>3341.94</td>\n",
       "      <td>Sport Boat</td>\n",
       "      <td>new boat from stock</td>\n",
       "      <td>2020</td>\n",
       "      <td>3.00</td>\n",
       "      <td>1.00</td>\n",
       "      <td>Denmark</td>\n",
       "      <td>64</td>\n",
       "      <td>Cheap</td>\n",
       "    </tr>\n",
       "    <tr>\n",
       "      <th>4</th>\n",
       "      <td>3268.27</td>\n",
       "      <td>Fishing Boat</td>\n",
       "      <td>new boat from stock</td>\n",
       "      <td>2019</td>\n",
       "      <td>3.55</td>\n",
       "      <td>1.46</td>\n",
       "      <td>Germany</td>\n",
       "      <td>58</td>\n",
       "      <td>Cheap</td>\n",
       "    </tr>\n",
       "    <tr>\n",
       "      <th>6</th>\n",
       "      <td>3636.36</td>\n",
       "      <td>Catamaran</td>\n",
       "      <td>Used boat,Unleaded</td>\n",
       "      <td>1999</td>\n",
       "      <td>6.20</td>\n",
       "      <td>2.38</td>\n",
       "      <td>Switzerland</td>\n",
       "      <td>474</td>\n",
       "      <td>Cheap</td>\n",
       "    </tr>\n",
       "  </tbody>\n",
       "</table>\n",
       "</div>"
      ],
      "text/plain": [
       "     Price            Boat Type                 Type  Year Built  Length  \\\n",
       "0  3370.71          Motor Yacht  new boat from stock        2017    4.00   \n",
       "1  3355.77  Center console boat  new boat from stock        2020    4.00   \n",
       "3  3341.94           Sport Boat  new boat from stock        2020    3.00   \n",
       "4  3268.27         Fishing Boat  new boat from stock        2019    3.55   \n",
       "6  3636.36            Catamaran   Used boat,Unleaded        1999    6.20   \n",
       "\n",
       "   Width     Location  Number of views last 7 days price_category  \n",
       "0   1.90  Switzerland                          226          Cheap  \n",
       "1   1.50      Germany                           75          Cheap  \n",
       "3   1.00      Denmark                           64          Cheap  \n",
       "4   1.46      Germany                           58          Cheap  \n",
       "6   2.38  Switzerland                          474          Cheap  "
      ]
     },
     "execution_count": 166,
     "metadata": {},
     "output_type": "execute_result"
    }
   ],
   "source": [
    "new_df.head()"
   ]
  },
  {
   "cell_type": "markdown",
   "metadata": {},
   "source": [
    "# EXPLORATORY DATA ANALYSIS"
   ]
  },
  {
   "cell_type": "code",
   "execution_count": 167,
   "metadata": {},
   "outputs": [],
   "source": [
    "plt.rcParams['figure.figsize'] = [12, 8]\n",
    "sns.set_style('darkgrid')\n",
    "sns.set_context('notebook')"
   ]
  },
  {
   "cell_type": "code",
   "execution_count": 168,
   "metadata": {},
   "outputs": [
    {
     "data": {
      "image/png": "[encoded data removed]",
      "text/plain": [
       "<Figure size 864x576 with 2 Axes>"
      ]
     },
     "metadata": {},
     "output_type": "display_data"
    }
   ],
   "source": [
    "sns.heatmap(new_df.corr(), annot=True)\n",
    "plt.title(\"Correlation Between Numeric Variables\")\n",
    "plt.show()"
   ]
  },
  {
   "cell_type": "code",
   "execution_count": 170,
   "metadata": {},
   "outputs": [
    {
     "data": {
      "image/png": "[encoded data removed]",
      "text/plain": [
       "<Figure size 864x576 with 1 Axes>"
      ]
     },
     "metadata": {},
     "output_type": "display_data"
    }
   ],
   "source": [
    "sns.scatterplot(data=most_viewed, x='Price', y='Number of views last 7 days')\n",
    "plt.title(\"Boat Price vs Number of views last 7 days\")\n",
    "plt.show()"
   ]
  },
  {
   "cell_type": "code",
   "execution_count": 172,
   "metadata": {},
   "outputs": [
    {
     "data": {
      "image/png": "[encoded data removed]",
      "text/plain": [
       "<Figure size 864x576 with 1 Axes>"
      ]
     },
     "metadata": {},
     "output_type": "display_data"
    },
    {
     "data": {
      "text/plain": [
       "<Figure size 864x576 with 0 Axes>"
      ]
     },
     "metadata": {},
     "output_type": "display_data"
    }
   ],
   "source": [
    "sns.scatterplot(data=df_no_outliers, x='Price', y='Number of views last 7 days')\n",
    "plt.title(\"Number of views last 7 days vs Boat Price\")\n",
    "plt.show()\n",
    "plt.savefig('scatterplot.svg')"
   ]
  },
  {
   "cell_type": "code",
   "execution_count": 173,
   "metadata": {},
   "outputs": [
    {
     "data": {
      "image/png": "[encoded data removed]",
      "text/plain": [
       "<Figure size 864x576 with 1 Axes>"
      ]
     },
     "metadata": {},
     "output_type": "display_data"
    }
   ],
   "source": [
    "sns.countplot(data=new_df, x='price_category', order=['Cheap', 'Expensive', 'Moderate'])\n",
    "plt.xlabel('')\n",
    "plt.title(\"Number of Boats per Price Category\")\n",
    "plt.show()"
   ]
  },
  {
   "cell_type": "code",
   "execution_count": 174,
   "metadata": {},
   "outputs": [
    {
     "data": {
      "image/png": "[encoded data removed]",
      "text/plain": [
       "<Figure size 864x576 with 1 Axes>"
      ]
     },
     "metadata": {},
     "output_type": "display_data"
    }
   ],
   "source": [
    "ax = sns.barplot(data=new_df, x='price_category', y='Number of views last 7 days')\n",
    "ax.set(xlabel='',title='Number of Views per Price Category')\n",
    "plt.show()"
   ]
  },
  {
   "cell_type": "code",
   "execution_count": 175,
   "metadata": {},
   "outputs": [
    {
     "data": {
      "image/png": "[encoded data removed]",
      "text/plain": [
       "<Figure size 864x576 with 1 Axes>"
      ]
     },
     "metadata": {},
     "output_type": "display_data"
    }
   ],
   "source": [
    "sns.barplot(data=most_viewed.groupby('Location')['Price'].count().sort_values(ascending=False).to_frame(name='count').reset_index().head(5), x='count', y='Location')\n",
    "plt.ylabel('')\n",
    "plt.title('Top 5 Location with Most Viewed Boats')\n",
    "plt.show()"
   ]
  },
  {
   "cell_type": "code",
   "execution_count": 176,
   "metadata": {},
   "outputs": [
    {
     "data": {
      "text/plain": [
       "Switzerland    0.340060\n",
       "Germany        0.215114\n",
       "Italy          0.124946\n",
       "Netherlands    0.060112\n",
       "Croatia        0.052812\n",
       "Spain          0.042508\n",
       "France         0.040790\n",
       "Denmark        0.015028\n",
       "Belgium        0.013310\n",
       "Austria        0.013310\n",
       "Name: Location, dtype: float64"
      ]
     },
     "execution_count": 176,
     "metadata": {},
     "output_type": "execute_result"
    }
   ],
   "source": [
    "most_viewed['Location'].value_counts(normalize=True, sort=True).head(10)"
   ]
  },
  {
   "cell_type": "code",
   "execution_count": 177,
   "metadata": {},
   "outputs": [
    {
     "data": {
      "image/png": "[encoded data removed]",
      "text/plain": [
       "<Figure size 864x576 with 1 Axes>"
      ]
     },
     "metadata": {},
     "output_type": "display_data"
    }
   ],
   "source": [
    "sns.barplot(data=most_viewed.groupby('Boat Type')['Price'].count().sort_values(ascending=False).to_frame(name='count').reset_index().head(5), x='count', y='Boat Type')\n",
    "plt.ylabel('')\n",
    "plt.title('Top 10 Most Viewed Boat Types')\n",
    "plt.show()"
   ]
  },
  {
   "cell_type": "code",
   "execution_count": 178,
   "metadata": {},
   "outputs": [
    {
     "data": {
      "text/plain": [
       "Motor Yacht     0.212108\n",
       "Sport Boat      0.193645\n",
       "Cabin Boat      0.114641\n",
       "Flybridge       0.062258\n",
       "Pilothouse      0.043796\n",
       "Bowrider        0.037355\n",
       "Trawler         0.033061\n",
       "Hardtop         0.032632\n",
       "Fishing Boat    0.029626\n",
       "House Boat      0.021898\n",
       "Name: Boat Type, dtype: float64"
      ]
     },
     "execution_count": 178,
     "metadata": {},
     "output_type": "execute_result"
    }
   ],
   "source": [
    "most_viewed['Boat Type'].value_counts(normalize=True, sort=True).head(10)"
   ]
  },
  {
   "cell_type": "code",
   "execution_count": 179,
   "metadata": {},
   "outputs": [
    {
     "data": {
      "text/html": [
       "<div>\n",
       "<style scoped>\n",
       "    .dataframe tbody tr th:only-of-type {\n",
       "        vertical-align: middle;\n",
       "    }\n",
       "\n",
       "    .dataframe tbody tr th {\n",
       "        vertical-align: top;\n",
       "    }\n",
       "\n",
       "    .dataframe thead th {\n",
       "        text-align: right;\n",
       "    }\n",
       "</style>\n",
       "<table border=\"1\" class=\"dataframe\">\n",
       "  <thead>\n",
       "    <tr style=\"text-align: right;\">\n",
       "      <th></th>\n",
       "      <th>Price</th>\n",
       "      <th>Boat Type</th>\n",
       "      <th>Type</th>\n",
       "      <th>Year Built</th>\n",
       "      <th>Length</th>\n",
       "      <th>Width</th>\n",
       "      <th>Location</th>\n",
       "      <th>Number of views last 7 days</th>\n",
       "      <th>price_category</th>\n",
       "    </tr>\n",
       "  </thead>\n",
       "  <tbody>\n",
       "    <tr>\n",
       "      <th>9580</th>\n",
       "      <td>15050.51</td>\n",
       "      <td>Motor Yacht</td>\n",
       "      <td>Used boat,Unleaded</td>\n",
       "      <td>1992</td>\n",
       "      <td>7.70</td>\n",
       "      <td>2.46</td>\n",
       "      <td>Switzerland</td>\n",
       "      <td>3263</td>\n",
       "      <td>Cheap</td>\n",
       "    </tr>\n",
       "    <tr>\n",
       "      <th>8723</th>\n",
       "      <td>35353.54</td>\n",
       "      <td>Hardtop</td>\n",
       "      <td>Used boat,Diesel</td>\n",
       "      <td>1979</td>\n",
       "      <td>11.12</td>\n",
       "      <td>3.88</td>\n",
       "      <td>Switzerland</td>\n",
       "      <td>2432</td>\n",
       "      <td>Cheap</td>\n",
       "    </tr>\n",
       "    <tr>\n",
       "      <th>6211</th>\n",
       "      <td>127171.72</td>\n",
       "      <td>Bowrider,Motor Yacht,Sport Boat</td>\n",
       "      <td>Used boat,Diesel</td>\n",
       "      <td>2002</td>\n",
       "      <td>12.35</td>\n",
       "      <td>3.48</td>\n",
       "      <td>Switzerland</td>\n",
       "      <td>2261</td>\n",
       "      <td>Moderate</td>\n",
       "    </tr>\n",
       "    <tr>\n",
       "      <th>3700</th>\n",
       "      <td>912500.00</td>\n",
       "      <td>Hardtop</td>\n",
       "      <td>Used boat,Diesel</td>\n",
       "      <td>2009</td>\n",
       "      <td>20.30</td>\n",
       "      <td>5.20</td>\n",
       "      <td>Neustadt</td>\n",
       "      <td>2154</td>\n",
       "      <td>Expensive</td>\n",
       "    </tr>\n",
       "    <tr>\n",
       "      <th>308</th>\n",
       "      <td>20101.01</td>\n",
       "      <td>Sport Boat</td>\n",
       "      <td>Used boat,Unleaded</td>\n",
       "      <td>1993</td>\n",
       "      <td>6.14</td>\n",
       "      <td>2.34</td>\n",
       "      <td>Switzerland</td>\n",
       "      <td>2026</td>\n",
       "      <td>Cheap</td>\n",
       "    </tr>\n",
       "    <tr>\n",
       "      <th>894</th>\n",
       "      <td>48989.90</td>\n",
       "      <td>Cabin Boat</td>\n",
       "      <td>Used boat,Unleaded</td>\n",
       "      <td>2014</td>\n",
       "      <td>6.65</td>\n",
       "      <td>2.30</td>\n",
       "      <td>Switzerland</td>\n",
       "      <td>1970</td>\n",
       "      <td>Cheap</td>\n",
       "    </tr>\n",
       "    <tr>\n",
       "      <th>9878</th>\n",
       "      <td>5049.49</td>\n",
       "      <td>Sport Boat,Wakeboard/Wakesurf,Water ski</td>\n",
       "      <td>Used boat,Unleaded</td>\n",
       "      <td>1980</td>\n",
       "      <td>6.00</td>\n",
       "      <td>2.10</td>\n",
       "      <td>Switzerland</td>\n",
       "      <td>1917</td>\n",
       "      <td>Cheap</td>\n",
       "    </tr>\n",
       "    <tr>\n",
       "      <th>8684</th>\n",
       "      <td>36363.64</td>\n",
       "      <td>Sport Boat</td>\n",
       "      <td>Used boat,Unleaded</td>\n",
       "      <td>2005</td>\n",
       "      <td>6.40</td>\n",
       "      <td>2.31</td>\n",
       "      <td>Switzerland</td>\n",
       "      <td>1834</td>\n",
       "      <td>Cheap</td>\n",
       "    </tr>\n",
       "    <tr>\n",
       "      <th>9843</th>\n",
       "      <td>6565.66</td>\n",
       "      <td>Sport Boat</td>\n",
       "      <td>Used boat,Unleaded</td>\n",
       "      <td>1995</td>\n",
       "      <td>6.80</td>\n",
       "      <td>2.38</td>\n",
       "      <td>Thun</td>\n",
       "      <td>1831</td>\n",
       "      <td>Cheap</td>\n",
       "    </tr>\n",
       "    <tr>\n",
       "      <th>35</th>\n",
       "      <td>3838.38</td>\n",
       "      <td>Cabin Boat</td>\n",
       "      <td>Used boat,Unleaded</td>\n",
       "      <td>1980</td>\n",
       "      <td>6.20</td>\n",
       "      <td>2.45</td>\n",
       "      <td>Switzerland</td>\n",
       "      <td>1804</td>\n",
       "      <td>Cheap</td>\n",
       "    </tr>\n",
       "    <tr>\n",
       "      <th>4548</th>\n",
       "      <td>353535.35</td>\n",
       "      <td>Hardtop,Motor Yacht</td>\n",
       "      <td>Used boat,Diesel</td>\n",
       "      <td>2016</td>\n",
       "      <td>13.15</td>\n",
       "      <td>3.96</td>\n",
       "      <td>Switzerland</td>\n",
       "      <td>1780</td>\n",
       "      <td>Expensive</td>\n",
       "    </tr>\n",
       "    <tr>\n",
       "      <th>5643</th>\n",
       "      <td>153229.81</td>\n",
       "      <td>Sport Boat</td>\n",
       "      <td>new boat from stock,Unleaded</td>\n",
       "      <td>2020</td>\n",
       "      <td>9.31</td>\n",
       "      <td>2.99</td>\n",
       "      <td>Switzerland</td>\n",
       "      <td>1710</td>\n",
       "      <td>Moderate</td>\n",
       "    </tr>\n",
       "    <tr>\n",
       "      <th>5216</th>\n",
       "      <td>200961.54</td>\n",
       "      <td>Hardtop</td>\n",
       "      <td>Display Model,Diesel</td>\n",
       "      <td>2019</td>\n",
       "      <td>3.35</td>\n",
       "      <td>9.95</td>\n",
       "      <td>Germany</td>\n",
       "      <td>1700</td>\n",
       "      <td>Moderate</td>\n",
       "    </tr>\n",
       "    <tr>\n",
       "      <th>2029</th>\n",
       "      <td>133653.85</td>\n",
       "      <td>Motor Yacht</td>\n",
       "      <td>Used boat,Diesel</td>\n",
       "      <td>2006</td>\n",
       "      <td>10.70</td>\n",
       "      <td>3.65</td>\n",
       "      <td>Germany</td>\n",
       "      <td>1621</td>\n",
       "      <td>Moderate</td>\n",
       "    </tr>\n",
       "    <tr>\n",
       "      <th>4510</th>\n",
       "      <td>325961.54</td>\n",
       "      <td>Hardtop</td>\n",
       "      <td>Used boat,Diesel</td>\n",
       "      <td>2010</td>\n",
       "      <td>13.86</td>\n",
       "      <td>3.98</td>\n",
       "      <td>Croatia</td>\n",
       "      <td>1461</td>\n",
       "      <td>Expensive</td>\n",
       "    </tr>\n",
       "    <tr>\n",
       "      <th>7492</th>\n",
       "      <td>65656.57</td>\n",
       "      <td>Cabin Boat,House Boat</td>\n",
       "      <td>Used boat,Diesel</td>\n",
       "      <td>1977</td>\n",
       "      <td>11.70</td>\n",
       "      <td>3.25</td>\n",
       "      <td>Switzerland</td>\n",
       "      <td>1449</td>\n",
       "      <td>Cheap</td>\n",
       "    </tr>\n",
       "    <tr>\n",
       "      <th>9088</th>\n",
       "      <td>27070.71</td>\n",
       "      <td>Fishing Boat</td>\n",
       "      <td>new boat on order</td>\n",
       "      <td>2020</td>\n",
       "      <td>6.28</td>\n",
       "      <td>2.24</td>\n",
       "      <td>Switzerland</td>\n",
       "      <td>1430</td>\n",
       "      <td>Cheap</td>\n",
       "    </tr>\n",
       "    <tr>\n",
       "      <th>1848</th>\n",
       "      <td>120202.02</td>\n",
       "      <td>Cabin Boat</td>\n",
       "      <td>Used boat,Diesel</td>\n",
       "      <td>2009</td>\n",
       "      <td>12.00</td>\n",
       "      <td>3.60</td>\n",
       "      <td>Switzerland</td>\n",
       "      <td>1414</td>\n",
       "      <td>Moderate</td>\n",
       "    </tr>\n",
       "    <tr>\n",
       "      <th>7859</th>\n",
       "      <td>55555.56</td>\n",
       "      <td>Cabin Boat</td>\n",
       "      <td>Used boat,Unleaded</td>\n",
       "      <td>1990</td>\n",
       "      <td>10.04</td>\n",
       "      <td>3.42</td>\n",
       "      <td>Switzerland</td>\n",
       "      <td>1386</td>\n",
       "      <td>Cheap</td>\n",
       "    </tr>\n",
       "    <tr>\n",
       "      <th>8520</th>\n",
       "      <td>35576.92</td>\n",
       "      <td>Sport Boat</td>\n",
       "      <td>Used boat,Unleaded</td>\n",
       "      <td>2007</td>\n",
       "      <td>7.25</td>\n",
       "      <td>2.57</td>\n",
       "      <td>Germany</td>\n",
       "      <td>1351</td>\n",
       "      <td>Cheap</td>\n",
       "    </tr>\n",
       "  </tbody>\n",
       "</table>\n",
       "</div>"
      ],
      "text/plain": [
       "          Price                                Boat Type  \\\n",
       "9580   15050.51                              Motor Yacht   \n",
       "8723   35353.54                                  Hardtop   \n",
       "6211  127171.72          Bowrider,Motor Yacht,Sport Boat   \n",
       "3700  912500.00                                  Hardtop   \n",
       "308    20101.01                               Sport Boat   \n",
       "894    48989.90                               Cabin Boat   \n",
       "9878    5049.49  Sport Boat,Wakeboard/Wakesurf,Water ski   \n",
       "8684   36363.64                               Sport Boat   \n",
       "9843    6565.66                               Sport Boat   \n",
       "35      3838.38                               Cabin Boat   \n",
       "4548  353535.35                      Hardtop,Motor Yacht   \n",
       "5643  153229.81                               Sport Boat   \n",
       "5216  200961.54                                  Hardtop   \n",
       "2029  133653.85                              Motor Yacht   \n",
       "4510  325961.54                                  Hardtop   \n",
       "7492   65656.57                    Cabin Boat,House Boat   \n",
       "9088   27070.71                             Fishing Boat   \n",
       "1848  120202.02                               Cabin Boat   \n",
       "7859   55555.56                               Cabin Boat   \n",
       "8520   35576.92                               Sport Boat   \n",
       "\n",
       "                              Type  Year Built  Length  Width     Location  \\\n",
       "9580            Used boat,Unleaded        1992    7.70   2.46  Switzerland   \n",
       "8723              Used boat,Diesel        1979   11.12   3.88  Switzerland   \n",
       "6211              Used boat,Diesel        2002   12.35   3.48  Switzerland   \n",
       "3700              Used boat,Diesel        2009   20.30   5.20     Neustadt   \n",
       "308             Used boat,Unleaded        1993    6.14   2.34  Switzerland   \n",
       "894             Used boat,Unleaded        2014    6.65   2.30  Switzerland   \n",
       "9878            Used boat,Unleaded        1980    6.00   2.10  Switzerland   \n",
       "8684            Used boat,Unleaded        2005    6.40   2.31  Switzerland   \n",
       "9843            Used boat,Unleaded        1995    6.80   2.38         Thun   \n",
       "35              Used boat,Unleaded        1980    6.20   2.45  Switzerland   \n",
       "4548              Used boat,Diesel        2016   13.15   3.96  Switzerland   \n",
       "5643  new boat from stock,Unleaded        2020    9.31   2.99  Switzerland   \n",
       "5216          Display Model,Diesel        2019    3.35   9.95      Germany   \n",
       "2029              Used boat,Diesel        2006   10.70   3.65      Germany   \n",
       "4510              Used boat,Diesel        2010   13.86   3.98      Croatia   \n",
       "7492              Used boat,Diesel        1977   11.70   3.25  Switzerland   \n",
       "9088             new boat on order        2020    6.28   2.24  Switzerland   \n",
       "1848              Used boat,Diesel        2009   12.00   3.60  Switzerland   \n",
       "7859            Used boat,Unleaded        1990   10.04   3.42  Switzerland   \n",
       "8520            Used boat,Unleaded        2007    7.25   2.57      Germany   \n",
       "\n",
       "      Number of views last 7 days price_category  \n",
       "9580                         3263          Cheap  \n",
       "8723                         2432          Cheap  \n",
       "6211                         2261       Moderate  \n",
       "3700                         2154      Expensive  \n",
       "308                          2026          Cheap  \n",
       "894                          1970          Cheap  \n",
       "9878                         1917          Cheap  \n",
       "8684                         1834          Cheap  \n",
       "9843                         1831          Cheap  \n",
       "35                           1804          Cheap  \n",
       "4548                         1780      Expensive  \n",
       "5643                         1710       Moderate  \n",
       "5216                         1700       Moderate  \n",
       "2029                         1621       Moderate  \n",
       "4510                         1461      Expensive  \n",
       "7492                         1449          Cheap  \n",
       "9088                         1430          Cheap  \n",
       "1848                         1414       Moderate  \n",
       "7859                         1386          Cheap  \n",
       "8520                         1351          Cheap  "
      ]
     },
     "execution_count": 179,
     "metadata": {},
     "output_type": "execute_result"
    }
   ],
   "source": [
    "most_viewed.sort_values('Number of views last 7 days', ascending=False).head(20)"
   ]
  },
  {
   "cell_type": "code",
   "execution_count": 180,
   "metadata": {},
   "outputs": [
    {
     "data": {
      "image/png": "[encoded data removed]",
      "text/plain": [
       "<Figure size 864x576 with 1 Axes>"
      ]
     },
     "metadata": {},
     "output_type": "display_data"
    }
   ],
   "source": [
    "sns.lineplot(data=new_df, x='Year Built', y='Number of views last 7 days', ci=None, color='tab:orange')\n",
    "plt.axhline(new_df['Number of views last 7 days'].mean(), linestyle='--', color='black', alpha=0.4, label='Average number of views')\n",
    "plt.legend()\n",
    "plt.title(\"Number of views last 7 days versus Year Built\")\n",
    "plt.show()"
   ]
  },
  {
   "cell_type": "code",
   "execution_count": 181,
   "metadata": {},
   "outputs": [
    {
     "data": {
      "image/png": "[encoded data removed]",
      "text/plain": [
       "<Figure size 864x576 with 1 Axes>"
      ]
     },
     "metadata": {},
     "output_type": "display_data"
    }
   ],
   "source": [
    "sns.barplot(data=most_viewed['Type'].value_counts(sort=True).to_frame(name='count').reset_index().head(5), y='index', x='count')\n",
    "plt.ylabel('')\n",
    "plt.title('Most Viewed Boats by Condition')\n",
    "plt.show()"
   ]
  },
  {
   "cell_type": "code",
   "execution_count": 182,
   "metadata": {},
   "outputs": [
    {
     "data": {
      "text/plain": [
       "Used boat,Unleaded              0.354229\n",
       "Used boat,Diesel                0.325462\n",
       "Used boat                       0.094461\n",
       "new boat from stock,Unleaded    0.086303\n",
       "new boat from stock             0.055818\n",
       "new boat from stock,Diesel      0.016316\n",
       "new boat on order,Unleaded      0.014599\n",
       "Display Model,Unleaded          0.013310\n",
       "new boat on order,Diesel        0.009446\n",
       "Display Model                   0.004294\n",
       "new boat on order               0.004294\n",
       "Unleaded                        0.004294\n",
       "Used boat,Electric              0.003864\n",
       "Diesel                          0.003864\n",
       "Display Model,Diesel            0.003006\n",
       "Used boat,Gas                   0.002147\n",
       "new boat from stock,Electric    0.002147\n",
       "Display Model,Electric          0.000859\n",
       "new boat from stock,Gas         0.000429\n",
       "new boat from stock,Hybrid      0.000429\n",
       "Used boat,Propane               0.000429\n",
       "Name: Type, dtype: float64"
      ]
     },
     "execution_count": 182,
     "metadata": {},
     "output_type": "execute_result"
    }
   ],
   "source": [
    "most_viewed['Type'].value_counts(sort=True, normalize=True)"
   ]
  },
  {
   "cell_type": "markdown",
   "metadata": {},
   "source": [
    "# INSIGHTS FROM EDA"
   ]
  },
  {
   "cell_type": "markdown",
   "metadata": {},
   "source": [
    "1. On average, cheap boats have a higher number of views than expensive boats. \n",
    "2. There is no linear correlation betweeen number of views and price.\n",
    "3. Switzerland is the location with the most viewed boats.\n",
    "4. Approximately 68% of most viewed boats are listed in Switzerland, Germany or Italy.\n",
    "5. The most viewed boat type is Motor Yacht.\n",
    "6. Motor Yacht, Sport Boat, and Cabin Boat make up 52% of most viewed boats. \n",
    "7. On average, boats built in the 1900s have the highest number of views within the last 7 days.\n",
    "8. Approximately 77% of most viewed boats are used boats having either diesel or unleaded gasoline engine."
   ]
  },
  {
   "cell_type": "markdown",
   "metadata": {},
   "source": [
    "# RECOMMENDATIONS"
   ]
  },
  {
   "cell_type": "markdown",
   "metadata": {},
   "source": [
    "1. Cheap boats listed in Switzerland should be included more in the newsletter.\n",
    "2. Boats built in the 1800s typically have lower views and should not be included in the newsletter."
   ]
  }
 ],
 "metadata": {
  "kernelspec": {
   "display_name": "Python 3.9.12 ('base')",
   "language": "python",
   "name": "python3"
  },
  "language_info": {
   "codemirror_mode": {
    "name": "ipython",
    "version": 3
   },
   "file_extension": ".py",
   "mimetype": "text/x-python",
   "name": "python",
   "nbconvert_exporter": "python",
   "pygments_lexer": "ipython3",
   "version": "3.9.12"
  },
  "orig_nbformat": 4,
  "vscode": {
   "interpreter": {
    "hash": "a077222d77dfe082b8f1dd562ad70e458ac2ab76993a0b248ab0476e32e9e8dd"
   }
  }
 },
 "nbformat": 4,
 "nbformat_minor": 2
}
